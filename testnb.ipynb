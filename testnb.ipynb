{
 "cells": [
  {
   "cell_type": "code",
   "execution_count": 3,
   "metadata": {},
   "outputs": [
    {
     "name": "stdout",
     "output_type": "stream",
     "text": [
      "3.7.2 (default, Apr 26 2019, 00:21:27) \n",
      "[GCC 8.2.1 20181127]\n"
     ]
    }
   ],
   "source": [
    "import sys\n",
    "print(sys.version)"
   ]
  },
  {
   "cell_type": "code",
   "execution_count": 4,
   "metadata": {},
   "outputs": [
    {
     "name": "stdout",
     "output_type": "stream",
     "text": [
      "0\n",
      "1\n",
      "2\n",
      "3\n",
      "4\n",
      "5\n",
      "6\n",
      "7\n",
      "8\n",
      "9\n"
     ]
    }
   ],
   "source": [
    "for i in range(10):\n",
    "    print(i)"
   ]
  },
  {
   "cell_type": "markdown",
   "metadata": {},
   "source": [
    "<h1>Perceptron</h1>"
   ]
  },
  {
   "cell_type": "code",
   "execution_count": 22,
   "metadata": {},
   "outputs": [],
   "source": [
    "import numpy as np"
   ]
  },
  {
   "cell_type": "code",
   "execution_count": 23,
   "metadata": {},
   "outputs": [],
   "source": [
    "def hardlim(x):\n",
    "    return 1 if x > 0 else 0"
   ]
  },
  {
   "cell_type": "code",
   "execution_count": 80,
   "metadata": {},
   "outputs": [],
   "source": [
    "x = [np.array([1,0]), np.array([1,2]), np.array([-1,1])]\n",
    "y = [1,1,0]\n",
    "w = np.array([1,2])\n",
    "w0 = 0"
   ]
  },
  {
   "cell_type": "code",
   "execution_count": 81,
   "metadata": {},
   "outputs": [
    {
     "name": "stdout",
     "output_type": "stream",
     "text": [
      "e: 0, w: [1 2], w0: 0\n",
      "e: 0, w: [1 2], w0: 0\n",
      "e: -1, w: [2 1], w0: -1\n"
     ]
    }
   ],
   "source": [
    "for i in range(3):\n",
    "    e = y[i] - hardlim(w.dot(x[i]) + w0)\n",
    "    w = w + e*(x[i])\n",
    "    w0 = w0 + e\n",
    "    print('e: {}, w: {}, w0: {}'.format(e, w, w0))"
   ]
  },
  {
   "cell_type": "code",
   "execution_count": 82,
   "metadata": {},
   "outputs": [
    {
     "name": "stdout",
     "output_type": "stream",
     "text": [
      "e: 0, w: [2 1], w0: -1\n",
      "e: 0, w: [2 1], w0: -1\n",
      "e: 0, w: [2 1], w0: -1\n"
     ]
    }
   ],
   "source": [
    "for i in range(3):\n",
    "    e = y[i] - hardlim(w.dot(x[i]) + w0)\n",
    "    w = w + e*(x[i])\n",
    "    w0 = w0 + e\n",
    "    print('e: {}, w: {}, w0: {}'.format(e, w, w0))"
   ]
  },
  {
   "cell_type": "markdown",
   "metadata": {},
   "source": [
    "<h1>LMS</h1>"
   ]
  },
  {
   "cell_type": "code",
   "execution_count": 65,
   "metadata": {},
   "outputs": [],
   "source": [
    "x = np.array([[1,0], [0,1], [1,1], [1,2], [2,1], [-1,0], [-1,1], [-2,-1], [-1,-1], [-2,1]])\n",
    "y = np.hstack((np.tile(np.array([0]), (5,)), np.tile(np.array([1]), (5,))))\n"
   ]
  },
  {
   "cell_type": "code",
   "execution_count": 67,
   "metadata": {},
   "outputs": [
    {
     "data": {
      "text/plain": [
       "array([[ 1,  0],\n",
       "       [ 0,  1],\n",
       "       [ 1,  1],\n",
       "       [ 1,  2],\n",
       "       [ 2,  1],\n",
       "       [-1,  0],\n",
       "       [-1,  1],\n",
       "       [-2, -1],\n",
       "       [-1, -1],\n",
       "       [-2,  1]])"
      ]
     },
     "execution_count": 67,
     "metadata": {},
     "output_type": "execute_result"
    }
   ],
   "source": [
    "x"
   ]
  },
  {
   "cell_type": "code",
   "execution_count": 74,
   "metadata": {},
   "outputs": [
    {
     "data": {
      "text/plain": [
       "array([[ 1.2, -0.5],\n",
       "       [ 0.2,  0.5],\n",
       "       [ 1.2,  0.5],\n",
       "       [ 1.2,  1.5],\n",
       "       [ 2.2,  0.5],\n",
       "       [-0.8, -0.5],\n",
       "       [-0.8,  0.5],\n",
       "       [-1.8, -1.5],\n",
       "       [-0.8, -1.5],\n",
       "       [-1.8,  0.5]])"
      ]
     },
     "execution_count": 74,
     "metadata": {},
     "output_type": "execute_result"
    }
   ],
   "source": [
    "mean = np.array([np.sum(x[:,0]), np.sum(x[:, 1])]) / (x.shape[0])\n",
    "x_mean = x - mean\n",
    "x_mean"
   ]
  },
  {
   "cell_type": "code",
   "execution_count": 84,
   "metadata": {},
   "outputs": [
    {
     "name": "stdout",
     "output_type": "stream",
     "text": [
      "[array([1, 0]), array([1, 2]), array([-1,  1])]\n",
      "[[1.95555556 0.66666667]\n",
      " [0.66666667 0.94444444]]\n"
     ]
    }
   ],
   "source": [
    "cov_matrix = x_mean.T.dot(x_mean) / 9\n",
    "print(x)\n",
    "print(cov_matrix)"
   ]
  },
  {
   "cell_type": "code",
   "execution_count": 53,
   "metadata": {},
   "outputs": [
    {
     "data": {
      "text/plain": [
       "array([[ 1,  0,  1,  1,  2, -1, -1, -2, -1, -2],\n",
       "       [ 0,  1,  1,  2,  1,  0,  1, -1, -1,  1]])"
      ]
     },
     "execution_count": 53,
     "metadata": {},
     "output_type": "execute_result"
    }
   ],
   "source": [
    "x.T"
   ]
  },
  {
   "cell_type": "code",
   "execution_count": 52,
   "metadata": {},
   "outputs": [
    {
     "data": {
      "text/plain": [
       "array([[1.95555556, 0.66666667],\n",
       "       [0.66666667, 0.94444444]])"
      ]
     },
     "execution_count": 52,
     "metadata": {},
     "output_type": "execute_result"
    }
   ],
   "source": [
    "np.cov(x.T)"
   ]
  },
  {
   "cell_type": "code",
   "execution_count": null,
   "metadata": {},
   "outputs": [],
   "source": []
  }
 ],
 "metadata": {
  "kernelspec": {
   "display_name": "venv",
   "language": "python",
   "name": "venv"
  },
  "language_info": {
   "codemirror_mode": {
    "name": "ipython",
    "version": 3
   },
   "file_extension": ".py",
   "mimetype": "text/x-python",
   "name": "python",
   "nbconvert_exporter": "python",
   "pygments_lexer": "ipython3",
   "version": "3.7.4"
  }
 },
 "nbformat": 4,
 "nbformat_minor": 4
}
